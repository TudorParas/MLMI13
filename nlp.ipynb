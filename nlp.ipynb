{
 "cells": [
  {
   "cell_type": "code",
   "execution_count": 1,
   "metadata": {
    "pycharm": {
     "is_executing": false
    }
   },
   "outputs": [],
   "source": [
    "import logging\n",
    "\n",
    "import data_utils as du\n",
    "import evaluation as ev\n",
    "from naive_bayes import NaiveBayesClassifier\n",
    "import matplotlib.pyplot as plt\n",
    "import numpy as np\n",
    "from tqdm import tqdm\n",
    "\n",
    "logger = logging.getLogger(__name__)\n",
    "logging.basicConfig(level=logging.INFO)\n"
   ]
  },
  {
   "cell_type": "code",
   "execution_count": 2,
   "metadata": {},
   "outputs": [
    {
     "name": "stderr",
     "output_type": "stream",
     "text": [
      "INFO:data_utils:Successfully read 1000 NEG files\n",
      "INFO:data_utils:Successfully read 1000 POS files\n"
     ]
    },
    {
     "data": {
      "text/plain": [
       "[0, 0, 1, 1]"
      ]
     },
     "execution_count": 2,
     "metadata": {},
     "output_type": "execute_result"
    }
   ],
   "source": [
    "NEG_FILE_LIST = du.load_data('NEG')\n",
    "POS_FILE_LIST = du.load_data('POS')\n",
    "\n",
    "neg_train_data = NEG_FILE_LIST[:900]\n",
    "neg_test_data = NEG_FILE_LIST[900:]\n",
    "\n",
    "pos_train_data = POS_FILE_LIST[:900]\n",
    "pos_test_data = POS_FILE_LIST[900:]\n",
    "\n",
    "training_data = {\"pos\": pos_train_data, \"neg\": neg_train_data}\n",
    "test_data = neg_test_data + pos_test_data\n",
    "test_targets = [0 for _ in range(len(neg_test_data))] +  [1 for _ in range(len(pos_test_data))]\n",
    "test_targets[:2] + test_targets[100:102]"
   ]
  },
  {
   "cell_type": "code",
   "execution_count": 3,
   "metadata": {},
   "outputs": [],
   "source": [
    "def eval_nb(training_data, test_data, models, smoothing=0):\n",
    "    nb = NaiveBayesClassifier(models=models, smoothing=smoothing)\n",
    "    nb.train_naive_bayes(training_data)\n",
    "    \n",
    "    return nb.predict(test_data)\n",
    "    "
   ]
  },
  {
   "cell_type": "markdown",
   "metadata": {},
   "source": [
    "## Unsmoothed model"
   ]
  },
  {
   "cell_type": "code",
   "execution_count": 4,
   "metadata": {},
   "outputs": [
    {
     "name": "stderr",
     "output_type": "stream",
     "text": [
      "INFO:naive_bayes:Created Naive Bayes classifer with: models=[(1, 4)], smoothing=0\n",
      "INFO:naive_bayes:Counting occurences for model with n=1, cutoff=4\n",
      "INFO:naive_bayes:Counting occurences for model with n=1, cutoff=4\n",
      "INFO:naive_bayes:Computed vocab size 13718\n"
     ]
    },
    {
     "data": {
      "text/plain": [
       "0.825"
      ]
     },
     "execution_count": 4,
     "metadata": {},
     "output_type": "execute_result"
    }
   ],
   "source": [
    "predictions = eval_nb(training_data, test_data, models=[(1, 4)], smoothing=0)\n",
    "np.mean(predictions == test_targets)"
   ]
  },
  {
   "cell_type": "code",
   "execution_count": 5,
   "metadata": {},
   "outputs": [
    {
     "name": "stderr",
     "output_type": "stream",
     "text": [
      "INFO:naive_bayes:Created Naive Bayes classifer with: models=[(2, 7)], smoothing=0\n",
      "INFO:naive_bayes:Counting occurences for model with n=2, cutoff=7\n",
      "INFO:naive_bayes:Counting occurences for model with n=2, cutoff=7\n",
      "INFO:naive_bayes:Computed vocab size 16479\n"
     ]
    },
    {
     "data": {
      "text/plain": [
       "0.76"
      ]
     },
     "execution_count": 5,
     "metadata": {},
     "output_type": "execute_result"
    }
   ],
   "source": [
    "predictions = eval_nb(training_data, test_data, models=[(2, 7)], smoothing=0)\n",
    "np.mean(predictions == test_targets)"
   ]
  },
  {
   "cell_type": "code",
   "execution_count": 6,
   "metadata": {},
   "outputs": [
    {
     "name": "stderr",
     "output_type": "stream",
     "text": [
      "INFO:naive_bayes:Created Naive Bayes classifer with: models=[(1, 4), (2, 7)], smoothing=0\n",
      "INFO:naive_bayes:Counting occurences for model with n=1, cutoff=4\n",
      "INFO:naive_bayes:Counting occurences for model with n=2, cutoff=7\n",
      "INFO:naive_bayes:Counting occurences for model with n=1, cutoff=4\n",
      "INFO:naive_bayes:Counting occurences for model with n=2, cutoff=7\n",
      "INFO:naive_bayes:Computed vocab size 30197\n"
     ]
    },
    {
     "data": {
      "text/plain": [
       "0.81"
      ]
     },
     "execution_count": 6,
     "metadata": {},
     "output_type": "execute_result"
    }
   ],
   "source": [
    "predictions = eval_nb(training_data, test_data, models=[(1, 4), (2, 7)], smoothing=0)\n",
    "np.mean(predictions == test_targets)"
   ]
  },
  {
   "cell_type": "markdown",
   "metadata": {},
   "source": [
    "## Smoothed model"
   ]
  },
  {
   "cell_type": "code",
   "execution_count": 22,
   "metadata": {},
   "outputs": [
    {
     "data": {
      "text/plain": [
       "0.8"
      ]
     },
     "execution_count": 22,
     "metadata": {},
     "output_type": "execute_result"
    }
   ],
   "source": [
    "predictions = eval_nb(training_data, test_data, models=[(1, 4)], smoothing=0.1)\n",
    "np.mean(predictions == test_targets)"
   ]
  },
  {
   "cell_type": "code",
   "execution_count": 21,
   "metadata": {},
   "outputs": [
    {
     "data": {
      "text/plain": [
       "0.835"
      ]
     },
     "execution_count": 21,
     "metadata": {},
     "output_type": "execute_result"
    }
   ],
   "source": [
    "predictions = eval_nb(training_data, test_data, models=[(2, 7)], smoothing=0.1)\n",
    "np.mean(predictions == test_targets)"
   ]
  },
  {
   "cell_type": "code",
   "execution_count": 9,
   "metadata": {},
   "outputs": [
    {
     "name": "stderr",
     "output_type": "stream",
     "text": [
      "INFO:naive_bayes:Created Naive Bayes classifer with: models=[(1, 4), (2, 7)], smoothing=1\n",
      "INFO:naive_bayes:Counting occurences for model with n=1, cutoff=4\n",
      "INFO:naive_bayes:Counting occurences for model with n=2, cutoff=7\n",
      "INFO:naive_bayes:Counting occurences for model with n=1, cutoff=4\n",
      "INFO:naive_bayes:Counting occurences for model with n=2, cutoff=7\n",
      "INFO:naive_bayes:Computed vocab size 30197\n"
     ]
    },
    {
     "data": {
      "text/plain": [
       "0.835"
      ]
     },
     "execution_count": 9,
     "metadata": {},
     "output_type": "execute_result"
    }
   ],
   "source": [
    "predictions = eval_nb(training_data, test_data, models=[(1, 4), (2, 7)], smoothing=1)\n",
    "np.mean(predictions == test_targets)"
   ]
  },
  {
   "cell_type": "code",
   "execution_count": 10,
   "metadata": {},
   "outputs": [
    {
     "name": "stderr",
     "output_type": "stream",
     "text": [
      "Computing smoothing accuracies: 100%|██████████| 20/20 [00:38<00:00,  1.90s/it]\n"
     ]
    },
    {
     "data": {
      "text/plain": [
       "[0.76,\n",
       " 0.765,\n",
       " 0.775,\n",
       " 0.78,\n",
       " 0.79,\n",
       " 0.79,\n",
       " 0.79,\n",
       " 0.8,\n",
       " 0.82,\n",
       " 0.825,\n",
       " 0.825,\n",
       " 0.825,\n",
       " 0.845,\n",
       " 0.59,\n",
       " 0.505,\n",
       " 0.5,\n",
       " 0.5,\n",
       " 0.5,\n",
       " 0.5,\n",
       " 0.5]"
      ]
     },
     "execution_count": 10,
     "metadata": {},
     "output_type": "execute_result"
    }
   ],
   "source": [
    "# Study how smoothing affects acc\n",
    "logging.getLogger().setLevel(logging.CRITICAL)\n",
    "\n",
    "smoothing_accs = []\n",
    "log_smoothings = np.linspace(-5, 5, 20)\n",
    "smoothings = np.power(10, log_smoothings)\n",
    "\n",
    "for smoothing in tqdm(smoothings, \"Computing smoothing accuracies\"):\n",
    "    predictions = eval_nb(training_data, test_data, models=[(1, 4)], smoothing=smoothing)\n",
    "    smoothing_accs.append(np.mean(predictions == test_targets))\n",
    "smoothing_accs"
   ]
  },
  {
   "cell_type": "code",
   "execution_count": 11,
   "metadata": {},
   "outputs": [
    {
     "data": {
      "image/png": "[encoded data removed]",
      "text/plain": [
       "<Figure size 800x480 with 1 Axes>"
      ]
     },
     "metadata": {},
     "output_type": "display_data"
    }
   ],
   "source": [
    "from matplotlib.pyplot import figure\n",
    "\n",
    "figure(num=None, figsize=(10, 6), dpi=80, facecolor='w', edgecolor='k')\n",
    "plt.plot(log_smoothings, smoothing_accs)\n",
    "plt.ylabel('Accuracy')\n",
    "plt.xlabel('Log smoothing value')\n",
    "plt.show()"
   ]
  },
  {
   "cell_type": "markdown",
   "metadata": {},
   "source": [
    "## Compare models"
   ]
  },
  {
   "cell_type": "code",
   "execution_count": 13,
   "metadata": {},
   "outputs": [
    {
     "name": "stdout",
     "output_type": "stream",
     "text": [
      "Model A with accuracy 0.825 vs model B with accuracy 0.825 has p-value 1.0563484790092563\n"
     ]
    }
   ],
   "source": [
    "predictionsA = eval_nb(training_data, test_data, models=[(1, 4)], smoothing=0)\n",
    "predictionsB = eval_nb(training_data, test_data, models=[(1, 4)], smoothing=1)\n",
    "\n",
    "accA = np.mean(predictionsA == test_targets)\n",
    "accB = np.mean(predictionsB == test_targets)\n",
    "p_value = ev.sign_test(predictionsA, predictionsB, test_targets)\n",
    "\n",
    "print(\"Model A with accuracy {0} vs model B with accuracy {1} has p-value {2}\".format(accA, accB, p_value))"
   ]
  },
  {
   "cell_type": "code",
   "execution_count": 23,
   "metadata": {},
   "outputs": [
    {
     "name": "stderr",
     "output_type": "stream",
     "text": [
      "Going over i axis: 6it [01:27, 14.58s/it]"
     ]
    },
    {
     "name": "stdout",
     "output_type": "stream",
     "text": [
      "[0.825 0.845 0.76  0.755 0.835 0.835]\n",
      "[[1.05634848 0.83207037 0.39501578 0.35800309 0.94365152 0.94365152]\n",
      " [0.83207037 1.05634848 0.25665059 0.2292466  0.94365152 0.94365152]\n",
      " [0.39501578 0.25665059 1.05634848 1.         0.3209904  0.3209904 ]\n",
      " [0.35800309 0.2292466  1.         1.05634848 0.2888205  0.2888205 ]\n",
      " [0.94365152 0.94365152 0.3209904  0.2888205  1.05634848 1.05634848]\n",
      " [0.94365152 0.94365152 0.3209904  0.2888205  1.05634848 1.05634848]]\n"
     ]
    },
    {
     "name": "stderr",
     "output_type": "stream",
     "text": [
      "\n"
     ]
    }
   ],
   "source": [
    "model_smooth = [\n",
    "    ([(1, 4)], 0), ([(1, 4)], 10),\n",
    "    ([(2, 7)], 0), ([(2, 7)], 1),\n",
    "    ([(1, 4), (2, 7)], 1), ([(1, 4), (2, 7)], 1)\n",
    "]\n",
    "p_vals = np.zeros((6, 6))\n",
    "accs = np.zeros(6)\n",
    "for i, (modelA, smoothA) in tqdm(enumerate(model_smooth), \"Going over i axis\"):\n",
    "    predictionsA = eval_nb(training_data, test_data, models=modelA, smoothing=smoothA)\n",
    "    accA = np.mean(predictionsA == test_targets)\n",
    "    accs[i] = accA\n",
    "    for j, (modelB, smoothB) in enumerate(model_smooth):\n",
    "        predictionsB = eval_nb(training_data, test_data, models=modelB, smoothing=smoothB)\n",
    "        p_value = ev.sign_test(predictionsA, predictionsB, test_targets)\n",
    "        \n",
    "        p_vals[i, j] = p_value\n",
    "\n",
    "print(accs)\n",
    "print(p_vals)"
   ]
  },
  {
   "cell_type": "code",
   "execution_count": null,
   "metadata": {},
   "outputs": [],
   "source": []
  },
  {
   "cell_type": "markdown",
   "metadata": {},
   "source": [
    "## Round Robin\n"
   ]
  },
  {
   "cell_type": "code",
   "execution_count": null,
   "metadata": {},
   "outputs": [],
   "source": [
    "def get_rr_folds():\n",
    "    neg_folds = [NEG_FILE_LIST[k::10] for k in range(10)]\n",
    "    pos_folds = [POS_FILE_LIST[k::10] for k in range(10)]\n",
    "    return neg_folds, pos_folds\n",
    "\n",
    "\n",
    "def process_fold_k(neg_folds, pos_folds, k):\n",
    "    neg_train_data = [file for fold in (neg_folds[:k] + neg_folds[k + 1:]) for file in fold]\n",
    "    neg_test_data = neg_folds[k]\n",
    "\n",
    "    pos_train_data = [file for fold in (pos_folds[:k] + pos_folds[k + 1:]) for file in fold]\n",
    "    pos_test_data = pos_folds[k]\n",
    "\n",
    "    training_data = {\"pos\": pos_train_data, \"neg\": neg_train_data}\n",
    "    test_data = {\"pos\": pos_test_data, \"neg\": neg_test_data}\n",
    "\n",
    "    return training_data, test_data\n",
    "\n",
    "\n",
    "def perform_crossvalidation_accuracy(models,  neg_folds, pos_folds, smoothing=0):\n",
    "    accuracies = []\n",
    "    correct = []\n",
    "    for k in range(len(neg_folds)):\n",
    "        training_data, test_data = process_fold_k(neg_folds=neg_folds, pos_folds=pos_folds, k=k)\n",
    "        correct_neg, correct_pos = eval_nb(training_data, test_data, models, smoothing)\n",
    "        accuracy = ev.get_nb_accuracy(correct_neg, correct_pos)\n",
    "        accuracies.append(accuracy)\n",
    "        correct.append((sum(correct_neg), sum(correct_pos)))\n",
    "\n",
    "    return accuracies, correct"
   ]
  },
  {
   "cell_type": "code",
   "execution_count": null,
   "metadata": {},
   "outputs": [],
   "source": [
    "neg_folds, pos_folds = get_rr_folds()"
   ]
  },
  {
   "cell_type": "code",
   "execution_count": null,
   "metadata": {},
   "outputs": [],
   "source": [
    "accuracies, correct = perform_crossvalidation_accuracy(models=[(1, 4)], smoothing=0, neg_folds=neg_folds,\n",
    "                                                       pos_folds=pos_folds)\n",
    "print(accuracies)\n",
    "print(correct)"
   ]
  },
  {
   "cell_type": "markdown",
   "metadata": {},
   "source": [
    "## Doc2vec"
   ]
  },
  {
   "cell_type": "code",
   "execution_count": null,
   "metadata": {},
   "outputs": [],
   "source": [
    "from doc2vec import get_doc2vec_model\n",
    "from sklearn.linear_model import SGDClassifier\n",
    "from gensim.utils import simple_preprocess\n",
    "\n",
    "from data_utils import load_untagged_data\n",
    "\n",
    "\n",
    "untagged_files = {cat: load_untagged_data(subdir) for cat, subdir in enumerate(['NEG', 'POS'])}\n"
   ]
  },
  {
   "cell_type": "code",
   "execution_count": null,
   "metadata": {},
   "outputs": [],
   "source": [
    "def process_files(untagged_files, doc2vec):\n",
    "    data = list()\n",
    "    targets = list()\n",
    "    for cat, cat_files in untagged_files.items():\n",
    "        for curr_file in tqdm(cat_files, \"Processing untagged files\".format()):\n",
    "            data.append(doc2vec.infer_vector(simple_preprocess(curr_file)))\n",
    "            targets.append(cat)\n",
    "            \n",
    "    return data, targets"
   ]
  },
  {
   "cell_type": "code",
   "execution_count": null,
   "metadata": {},
   "outputs": [],
   "source": [
    "doc2vec = get_doc2vec_model()\n",
    "\n",
    "data, targets = process_files(untagged_files, doc2vec)\n",
    "print(len(data))\n",
    "print(np.sum(targets))"
   ]
  },
  {
   "cell_type": "code",
   "execution_count": null,
   "metadata": {},
   "outputs": [],
   "source": [
    "data_folds = [data[k * 100: (k + 1) * 100] + data[1000 + k * 100: 1000 + (k + 1) * 100] for k in range(10)]\n",
    "target_folds = [targets[k * 100: (k + 1) * 100] + targets[1000 + k * 100: 1000 + (k + 1) * 100] for k in range(10)]\n",
    "\n",
    "def get_without_k(k, data_folds=data_folds, target_folds=target_folds):\n",
    "    # Remove fold k and concat rest\n",
    "    train_data = list()\n",
    "    train_targets = list()\n",
    "    for index in range(10):\n",
    "        if index != k:\n",
    "            train_data.extend(data_folds[index])\n",
    "            train_targets.extend(target_folds[index])\n",
    "    return train_data, train_targets\n",
    "\n",
    "print(len(data_folds))\n",
    "print(target_folds[7])"
   ]
  },
  {
   "cell_type": "code",
   "execution_count": null,
   "metadata": {},
   "outputs": [],
   "source": [
    "from sklearn.linear_model import SGDClassifier\n",
    "\n",
    "\n",
    "svm = SGDClassifier(loss='hinge', penalty='l2', alpha=1e-3, random_state=42,  max_iter=5, tol=None)\n",
    "\n",
    "accs = list()\n",
    "for k in range(10):\n",
    "    train_data, train_targets = get_without_k(k)\n",
    "    svm.fit(train_data, train_targets)\n",
    "    predicted = svm.predict(data_folds[k])\n",
    "\n",
    "    accs.append(np.mean(predicted == target_folds[k]))\n",
    "accs\n"
   ]
  },
  {
   "cell_type": "code",
   "execution_count": null,
   "metadata": {},
   "outputs": [],
   "source": [
    "def test_doc2vec_model(doc2vec):\n",
    "        data, targets = process_files(untagged_files, doc2vec)\n",
    "        data_folds = [data[k * 100: (k + 1) * 100] + data[1000 + k * 100: 1000 + (k + 1) * 100] for k in range(10)]\n",
    "        target_folds = [targets[k * 100: (k + 1) * 100] + targets[1000 + k * 100: 1000 + (k + 1) * 100] for k in range(10)]\n",
    "        \n",
    "        svm = SGDClassifier(loss='hinge', penalty='l2', alpha=1e-3, random_state=42,  max_iter=5, tol=None)\n",
    "\n",
    "        accs = list()\n",
    "        for k in range(10):\n",
    "            train_data, train_targets = get_without_k(k, data_folds=data_folds, target_folds=target_folds)\n",
    "            svm.fit(train_data, train_targets)\n",
    "            predicted = svm.predict(data_folds[k])\n",
    "\n",
    "            accs.append(np.mean(predicted == target_folds[k]))\n",
    "        return accs"
   ]
  },
  {
   "cell_type": "code",
   "execution_count": null,
   "metadata": {},
   "outputs": [],
   "source": [
    "\n",
    "results = dict()\n",
    "\n",
    "epochs = 10\n",
    "vector_size = 100\n",
    "dm_concat = 1\n",
    "min_count = 2\n",
    "for dm in [0, 1]:\n",
    "    for context_window in [2, 4]:\n",
    "        for hierarchical_softmax in [0, 1]:\n",
    "            doc2vec = get_doc2vec_model(dm=dm, vector_size=vector_size, context_window=context_window,\n",
    "                              hierarchical_softmax=hierarchical_softmax, dm_concat=dm_concat, epochs=epochs)\n",
    "            \n",
    "            accs = test_doc2vec_model(doc2vec)\n",
    "            model = \"model_{dm}_{vector_size}_{epochs}_{context_window}_{min_count}_{hierarchical_softmax}_{dm_concat}\".format(\n",
    "                dm=bool(dm), vector_size=vector_size, epochs=epochs, context_window=context_window,\n",
    "                min_count=min_count, hierarchical_softmax=hierarchical_softmax, dm_concat=dm_concat)\n",
    "            results[model] = accs\n",
    "            \n",
    "for model, accs in results.items():\n",
    "    print(\"Model {0} got accs \\n\\t{1}\".format(model, accs))"
   ]
  }
 ],
 "metadata": {
  "kernelspec": {
   "display_name": "Python 3",
   "language": "python",
   "name": "python3"
  },
  "language_info": {
   "codemirror_mode": {
    "name": "ipython",
    "version": 3
   },
   "file_extension": ".py",
   "mimetype": "text/x-python",
   "name": "python",
   "nbconvert_exporter": "python",
   "pygments_lexer": "ipython3",
   "version": "3.7.4"
  }
 },
 "nbformat": 4,
 "nbformat_minor": 1
}
