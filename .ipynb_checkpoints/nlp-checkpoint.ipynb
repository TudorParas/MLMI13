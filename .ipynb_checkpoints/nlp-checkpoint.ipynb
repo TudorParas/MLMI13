{
 "cells": [
  {
   "cell_type": "code",
   "execution_count": 4,
   "metadata": {
    "pycharm": {
     "is_executing": false
    }
   },
   "outputs": [
    {
     "name": "stderr",
     "output_type": "stream",
     "text": [
      "INFO:data_utils:Successfully read 1000 NEG files\n",
      "INFO:data_utils:Successfully read 1000 POS files\n"
     ]
    }
   ],
   "source": [
    "import logging\n",
    "\n",
    "import data_utils as du\n",
    "import evaluation as ev\n",
    "from naive_bayes import NaiveBayesClassifier\n",
    "import matplotlib.pyplot as plt\n",
    "import numpy as np\n",
    "\n",
    "logger = logging.getLogger(__name__)\n",
    "logging.basicConfig(level=logging.INFO)\n",
    "\n"
   ]
  },
  {
   "cell_type": "code",
   "execution_count": 5,
   "metadata": {},
   "outputs": [
    {
     "name": "stderr",
     "output_type": "stream",
     "text": [
      "INFO:data_utils:Successfully read 1000 NEG files\n",
      "INFO:data_utils:Successfully read 1000 POS files\n"
     ]
    }
   ],
   "source": [
    "NEG_FILE_LIST = du.load_data('NEG')\n",
    "POS_FILE_LIST = du.load_data('POS')"
   ]
  },
  {
   "cell_type": "code",
   "execution_count": 1,
   "metadata": {},
   "outputs": [],
   "source": [
    "def get_training_test_data():\n",
    "    neg_train_data = NEG_FILE_LIST[:900]\n",
    "    neg_test_data = NEG_FILE_LIST[900:]\n",
    "\n",
    "    pos_train_data = POS_FILE_LIST[:900]\n",
    "    pos_test_data = POS_FILE_LIST[900:]\n",
    "\n",
    "    training_data = {\"pos\": pos_train_data, \"neg\": neg_train_data}\n",
    "    test_data = {\"pos\": pos_test_data, \"neg\": neg_test_data}\n",
    "\n",
    "    return training_data, test_data\n",
    "\n",
    "\n",
    "def eval_nb(training_data, test_data, models, smoothing=0):\n",
    "    nb = NaiveBayesClassifier(models=models, smoothing=smoothing)\n",
    "    nb.train_naive_bayes(training_data)\n",
    "    # print(nb.frequency_dict)\n",
    "    scores = nb.test_naive_bayes(test_data)\n",
    "    neg_file_scores, pos_file_scores = scores[\"neg\"], scores[\"pos\"]\n",
    "\n",
    "    correct_neg = [1 if score[\"neg\"] > score[\"pos\"] else 0 for score in neg_file_scores]\n",
    "    correct_pos = [1 if score[\"neg\"] < score[\"pos\"] else 0 for score in pos_file_scores]\n",
    "\n",
    "    return correct_neg, correct_pos\n",
    "\n",
    "\n",
    "def print_nb_accuracy(models, smoothing=0):\n",
    "    training_data, test_data = get_training_test_data()\n",
    "    correct_neg, correct_pos = eval_nb(training_data, test_data, models, smoothing)\n",
    "    accuracy = ev.get_nb_accuracy(correct_neg, correct_pos)\n",
    "    print(\"NB for models={0} smoothing={1} got accuracy of {2}\".format(models, smoothing, accuracy))\n",
    "    return accuracy\n",
    "\n",
    "\n",
    "def compare_models(compared_models):\n",
    "    training_data, test_data = get_training_test_data()\n",
    "    for modelA, modelB in compared_models:\n",
    "        correct_negA, correct_posA = eval_nb(training_data, test_data, models=modelA[0], smoothing=modelA[1])\n",
    "        correct_negB, correct_posB = eval_nb(training_data, test_data, models=modelB[0], smoothing=modelB[1])\n",
    "        accuracy_A = ev.get_nb_accuracy(correct_negA, correct_posA)\n",
    "        accuracy_B = ev.get_nb_accuracy(correct_negB, correct_posB)\n",
    "        p_value = ev.compare_models(correct_negA, correct_posA, correct_negB, correct_posB)\n",
    "        print(\"Got p_value {6} for comparing models:\\n\"\n",
    "              \"\\t{0} smoothing {1}: accuracy {2}\\n\"\n",
    "              \"\\t{3} smoothing {4}: accuracy {5}\".format(\n",
    "            modelA[0], modelA[1], accuracy_A, modelB[0], modelB[1], accuracy_B, p_value))\n",
    "\n",
    "\n",
    "def get_rr_folds():\n",
    "    neg_folds = [NEG_FILE_LIST[k::10] for k in range(10)]\n",
    "    pos_folds = [POS_FILE_LIST[k::10] for k in range(10)]\n",
    "    return neg_folds, pos_folds\n",
    "\n",
    "\n",
    "def process_fold_k(neg_folds, pos_folds, k):\n",
    "    neg_train_data = [file for fold in (neg_folds[:k] + neg_folds[k + 1:]) for file in fold]\n",
    "    neg_test_data = neg_folds[k]\n",
    "\n",
    "    pos_train_data = [file for fold in (pos_folds[:k] + pos_folds[k + 1:]) for file in fold]\n",
    "    pos_test_data = pos_folds[k]\n",
    "\n",
    "    training_data = {\"pos\": pos_train_data, \"neg\": neg_train_data}\n",
    "    test_data = {\"pos\": pos_test_data, \"neg\": neg_test_data}\n",
    "\n",
    "    return training_data, test_data\n",
    "\n",
    "\n",
    "def perform_crossvalidation_accuracy(models,  neg_folds, pos_folds, smoothing=0):\n",
    "    accuracies = []\n",
    "    correct = []\n",
    "    for k in range(len(neg_folds)):\n",
    "        training_data, test_data = process_fold_k(neg_folds=neg_folds, pos_folds=pos_folds, k=k)\n",
    "        correct_neg, correct_pos = eval_nb(training_data, test_data, models, smoothing)\n",
    "        accuracy = ev.get_nb_accuracy(correct_neg, correct_pos)\n",
    "        accuracies.append(accuracy)\n",
    "        correct.append((sum(correct_neg), sum(correct_pos)))\n",
    "\n",
    "    return accuracies, correct"
   ]
  },
  {
   "cell_type": "markdown",
   "metadata": {},
   "source": [
    "### Unsmoothed model"
   ]
  },
  {
   "cell_type": "code",
   "execution_count": 2,
   "metadata": {},
   "outputs": [
    {
     "ename": "NameError",
     "evalue": "name 'NEG_FILE_LIST' is not defined",
     "output_type": "error",
     "traceback": [
      "\u001b[1;31m---------------------------------------------------------------------------\u001b[0m",
      "\u001b[1;31mNameError\u001b[0m                                 Traceback (most recent call last)",
      "\u001b[1;32m<ipython-input-2-c625c44dc2a6>\u001b[0m in \u001b[0;36m<module>\u001b[1;34m\u001b[0m\n\u001b[1;32m----> 1\u001b[1;33m \u001b[0mprint_nb_accuracy\u001b[0m\u001b[1;33m(\u001b[0m\u001b[0mmodels\u001b[0m\u001b[1;33m=\u001b[0m\u001b[1;33m[\u001b[0m\u001b[1;33m(\u001b[0m\u001b[1;36m1\u001b[0m\u001b[1;33m,\u001b[0m \u001b[1;36m4\u001b[0m\u001b[1;33m)\u001b[0m\u001b[1;33m]\u001b[0m\u001b[1;33m,\u001b[0m \u001b[0msmoothing\u001b[0m\u001b[1;33m=\u001b[0m\u001b[1;36m0\u001b[0m\u001b[1;33m)\u001b[0m\u001b[1;33m\u001b[0m\u001b[1;33m\u001b[0m\u001b[0m\n\u001b[0m\u001b[0;32m      2\u001b[0m \u001b[0mprint_nb_accuracy\u001b[0m\u001b[1;33m(\u001b[0m\u001b[0mmodels\u001b[0m\u001b[1;33m=\u001b[0m\u001b[1;33m[\u001b[0m\u001b[1;33m(\u001b[0m\u001b[1;36m2\u001b[0m\u001b[1;33m,\u001b[0m \u001b[1;36m7\u001b[0m\u001b[1;33m)\u001b[0m\u001b[1;33m]\u001b[0m\u001b[1;33m,\u001b[0m \u001b[0msmoothing\u001b[0m\u001b[1;33m=\u001b[0m\u001b[1;36m0\u001b[0m\u001b[1;33m)\u001b[0m\u001b[1;33m\u001b[0m\u001b[1;33m\u001b[0m\u001b[0m\n\u001b[0;32m      3\u001b[0m \u001b[1;31m# Mixed model\u001b[0m\u001b[1;33m\u001b[0m\u001b[1;33m\u001b[0m\u001b[1;33m\u001b[0m\u001b[0m\n\u001b[0;32m      4\u001b[0m \u001b[0mprint_nb_accuracy\u001b[0m\u001b[1;33m(\u001b[0m\u001b[0mmodels\u001b[0m\u001b[1;33m=\u001b[0m\u001b[1;33m[\u001b[0m\u001b[1;33m(\u001b[0m\u001b[1;36m1\u001b[0m\u001b[1;33m,\u001b[0m \u001b[1;36m4\u001b[0m\u001b[1;33m)\u001b[0m\u001b[1;33m,\u001b[0m \u001b[1;33m(\u001b[0m\u001b[1;36m2\u001b[0m\u001b[1;33m,\u001b[0m \u001b[1;36m7\u001b[0m\u001b[1;33m)\u001b[0m\u001b[1;33m]\u001b[0m\u001b[1;33m,\u001b[0m \u001b[0msmoothing\u001b[0m\u001b[1;33m=\u001b[0m\u001b[1;36m0\u001b[0m\u001b[1;33m)\u001b[0m\u001b[1;33m\u001b[0m\u001b[1;33m\u001b[0m\u001b[0m\n",
      "\u001b[1;32m<ipython-input-1-90d766723f4b>\u001b[0m in \u001b[0;36mprint_nb_accuracy\u001b[1;34m(models, smoothing)\u001b[0m\n\u001b[0;32m     26\u001b[0m \u001b[1;33m\u001b[0m\u001b[0m\n\u001b[0;32m     27\u001b[0m \u001b[1;32mdef\u001b[0m \u001b[0mprint_nb_accuracy\u001b[0m\u001b[1;33m(\u001b[0m\u001b[0mmodels\u001b[0m\u001b[1;33m,\u001b[0m \u001b[0msmoothing\u001b[0m\u001b[1;33m=\u001b[0m\u001b[1;36m0\u001b[0m\u001b[1;33m)\u001b[0m\u001b[1;33m:\u001b[0m\u001b[1;33m\u001b[0m\u001b[1;33m\u001b[0m\u001b[0m\n\u001b[1;32m---> 28\u001b[1;33m     \u001b[0mtraining_data\u001b[0m\u001b[1;33m,\u001b[0m \u001b[0mtest_data\u001b[0m \u001b[1;33m=\u001b[0m \u001b[0mget_training_test_data\u001b[0m\u001b[1;33m(\u001b[0m\u001b[1;33m)\u001b[0m\u001b[1;33m\u001b[0m\u001b[1;33m\u001b[0m\u001b[0m\n\u001b[0m\u001b[0;32m     29\u001b[0m     \u001b[0mcorrect_neg\u001b[0m\u001b[1;33m,\u001b[0m \u001b[0mcorrect_pos\u001b[0m \u001b[1;33m=\u001b[0m \u001b[0meval_nb\u001b[0m\u001b[1;33m(\u001b[0m\u001b[0mtraining_data\u001b[0m\u001b[1;33m,\u001b[0m \u001b[0mtest_data\u001b[0m\u001b[1;33m,\u001b[0m \u001b[0mmodels\u001b[0m\u001b[1;33m,\u001b[0m \u001b[0msmoothing\u001b[0m\u001b[1;33m)\u001b[0m\u001b[1;33m\u001b[0m\u001b[1;33m\u001b[0m\u001b[0m\n\u001b[0;32m     30\u001b[0m     \u001b[0maccuracy\u001b[0m \u001b[1;33m=\u001b[0m \u001b[0mev\u001b[0m\u001b[1;33m.\u001b[0m\u001b[0mget_nb_accuracy\u001b[0m\u001b[1;33m(\u001b[0m\u001b[0mcorrect_neg\u001b[0m\u001b[1;33m,\u001b[0m \u001b[0mcorrect_pos\u001b[0m\u001b[1;33m)\u001b[0m\u001b[1;33m\u001b[0m\u001b[1;33m\u001b[0m\u001b[0m\n",
      "\u001b[1;32m<ipython-input-1-90d766723f4b>\u001b[0m in \u001b[0;36mget_training_test_data\u001b[1;34m()\u001b[0m\n\u001b[0;32m      1\u001b[0m \u001b[1;32mdef\u001b[0m \u001b[0mget_training_test_data\u001b[0m\u001b[1;33m(\u001b[0m\u001b[1;33m)\u001b[0m\u001b[1;33m:\u001b[0m\u001b[1;33m\u001b[0m\u001b[1;33m\u001b[0m\u001b[0m\n\u001b[1;32m----> 2\u001b[1;33m     \u001b[0mneg_train_data\u001b[0m \u001b[1;33m=\u001b[0m \u001b[0mNEG_FILE_LIST\u001b[0m\u001b[1;33m[\u001b[0m\u001b[1;33m:\u001b[0m\u001b[1;36m900\u001b[0m\u001b[1;33m]\u001b[0m\u001b[1;33m\u001b[0m\u001b[1;33m\u001b[0m\u001b[0m\n\u001b[0m\u001b[0;32m      3\u001b[0m     \u001b[0mneg_test_data\u001b[0m \u001b[1;33m=\u001b[0m \u001b[0mNEG_FILE_LIST\u001b[0m\u001b[1;33m[\u001b[0m\u001b[1;36m900\u001b[0m\u001b[1;33m:\u001b[0m\u001b[1;33m]\u001b[0m\u001b[1;33m\u001b[0m\u001b[1;33m\u001b[0m\u001b[0m\n\u001b[0;32m      4\u001b[0m \u001b[1;33m\u001b[0m\u001b[0m\n\u001b[0;32m      5\u001b[0m     \u001b[0mpos_train_data\u001b[0m \u001b[1;33m=\u001b[0m \u001b[0mPOS_FILE_LIST\u001b[0m\u001b[1;33m[\u001b[0m\u001b[1;33m:\u001b[0m\u001b[1;36m900\u001b[0m\u001b[1;33m]\u001b[0m\u001b[1;33m\u001b[0m\u001b[1;33m\u001b[0m\u001b[0m\n",
      "\u001b[1;31mNameError\u001b[0m: name 'NEG_FILE_LIST' is not defined"
     ]
    }
   ],
   "source": [
    "print_nb_accuracy(models=[(1, 4)], smoothing=0)\n",
    "print_nb_accuracy(models=[(2, 7)], smoothing=0)\n",
    "# Mixed model\n",
    "print_nb_accuracy(models=[(1, 4), (2, 7)], smoothing=0)"
   ]
  }
 ],
 "metadata": {
  "kernelspec": {
   "display_name": "Python 3",
   "language": "python",
   "name": "python3"
  },
  "language_info": {
   "codemirror_mode": {
    "name": "ipython",
    "version": 3
   },
   "file_extension": ".py",
   "mimetype": "text/x-python",
   "name": "python",
   "nbconvert_exporter": "python",
   "pygments_lexer": "ipython3",
   "version": "3.7.4"
  }
 },
 "nbformat": 4,
 "nbformat_minor": 1
}
